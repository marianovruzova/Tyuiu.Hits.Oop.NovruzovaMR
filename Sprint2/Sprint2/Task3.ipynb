{
 "cells": [
  {
   "cell_type": "markdown",
   "metadata": {},
   "source": [
    "<h1 style=\"color:DodgerBlue\">Индивидальный проект</h1>"
   ]
  },
  {
   "cell_type": "markdown",
   "metadata": {},
   "source": [
    "<h2 style=\"color:DodgerBlue\">Название проекта:</h2>\n",
    "\n",
    "----\n",
    "\n",
    "### Вариант задания 21\n"
   ]
  },
  {
   "cell_type": "markdown",
   "metadata": {},
   "source": [
    "<h2 style=\"color:DodgerBlue\">Описание проекта:</h2>\n",
    "\n",
    "----\n",
    "\n",
    "Требования к базовому классу Ticket: • Атрибуты: ID билета (TicketId), Номер ряда (RowNumber), Номер места (SeatNumber). • Методы: o PrintTicketInfo(): метод для печати информации о билете. o ReserveSeat(): метод для резервирования места. o GetTicketDetails(): метод для получения деталей билета. Требования к производным классам: 1. БилетНаКонцерт (ConcertTicket): Должен содержать дополнительные атрибуты, такие как Имя исполнителя (ArtistName). Метод PrintTicketInfo() должен быть переопределен для включения имени исполнителя в информацию о билете. 2. БилетНаСпектакль (PlayTicket): Должен содержать дополнительные атрибуты, такие как Название спектакля (PlayTitle). Метод GetTicketDetails() должен быть переопределен для отображения названия спектакля вместе с другими деталями билета. 3. БилетНаКонференцию (ConferenceTicket) (если требуется третий класс): Должен содержать дополнительные атрибуты, такие как Название конференции (ConferenceName). Метод ReserveSeat() должен быть переопределен для добавления информации о предпочтениях участника относительно мест. \n",
    "\n",
    "Дополнительное задание\n",
    "Добавьте к сущестующим классам (базовыму и производным 3-4 атрибута и метода) и реализуйте простое, сложное и множественное наследование\n"
   ]
  },
  {
   "cell_type": "markdown",
   "metadata": {},
   "source": [
    "<h2 style=\"color:DodgerBlue\">Реализация:</h2>\n",
    "\n",
    "----"
   ]
  },
  {
   "cell_type": "code",
   "execution_count": null,
   "metadata": {
    "dotnet_interactive": {
     "language": "csharp"
    },
    "polyglot_notebook": {
     "kernelName": "csharp"
    }
   },
   "outputs": [
    {
     "name": "stdout",
     "output_type": "stream",
     "text": [
      "ID билета: 1, Ряд: 5, Место: 12, Дата мероприятия: 10.10.2024, Цена: 150,5, Исполнитель: NoizeMC, Место проведения: Stadium, Жанр: Hip-Hop, Продолжительность: 120 минут\n",
      "Место 5-12 зарезервировано.\n",
      "\n"
     ]
    }
   ],
   "source": [
    "using System;\n",
    "\n",
    "public abstract class Ticket\n",
    "{\n",
    "    public int TicketId { get; set; }\n",
    "    public int RowNumber { get; set; }\n",
    "    public int SeatNumber { get; set; }\n",
    "    public string EventDate { get; set; }\n",
    "    public double Price { get; set; }\n",
    "\n",
    "    public Ticket(int ticketId, int rowNumber, int seatNumber, string eventDate, double price)\n",
    "    {\n",
    "        TicketId = ticketId;\n",
    "        RowNumber = rowNumber;\n",
    "        SeatNumber = seatNumber;\n",
    "        EventDate = eventDate;\n",
    "        Price = price;\n",
    "    }\n",
    "\n",
    "    public virtual void PrintTicketInfo()\n",
    "    {\n",
    "        Console.WriteLine($\"ID билета: {TicketId}, Ряд: {RowNumber}, Место: {SeatNumber}, Дата мероприятия: {EventDate}, Цена: {Price}\");\n",
    "    }\n",
    "\n",
    "    public virtual void ReserveSeat()\n",
    "    {\n",
    "        Console.WriteLine($\"Место {RowNumber}-{SeatNumber} зарезервировано.\");\n",
    "    }\n",
    "\n",
    "    public virtual void GetTicketDetails()\n",
    "    {\n",
    "        Console.WriteLine($\"ID билета: {TicketId}, Ряд: {RowNumber}, Место: {SeatNumber}, Дата мероприятия: {EventDate}, Цена: {Price}\");\n",
    "    }\n",
    "}\n",
    "\n",
    "public interface IVIPBenefits\n",
    "{\n",
    "    void GetVIPAccess();\n",
    "}\n",
    "\n",
    "public class ConcertTicket : Ticket\n",
    "{\n",
    "    public string ArtistName { get; set; }\n",
    "    public string Venue { get; set; }\n",
    "    public string Genre { get; set; }\n",
    "    public int Duration { get; set; }  // Время продолжительности концерта в минутах\n",
    "\n",
    "    public ConcertTicket(int ticketId, int rowNumber, int seatNumber, string eventDate, double price, string artistName, string venue, string genre, int duration) \n",
    "        : base(ticketId, rowNumber, seatNumber, eventDate, price)\n",
    "    {\n",
    "        ArtistName = artistName;\n",
    "        Venue = venue;\n",
    "        Genre = genre;\n",
    "        Duration = duration;\n",
    "    }\n",
    "\n",
    "    public override void PrintTicketInfo()\n",
    "    {\n",
    "        Console.WriteLine($\"ID билета: {TicketId}, Ряд: {RowNumber}, Место: {SeatNumber}, Дата мероприятия: {EventDate}, Цена: {Price}, Исполнитель: {ArtistName}, Место проведения: {Venue}, Жанр: {Genre}, Продолжительность: {Duration} минут\");\n",
    "    }\n",
    "}\n",
    "\n",
    "public class PlayTicket : Ticket\n",
    "{\n",
    "    public string PlayTitle { get; set; }\n",
    "    public string Director { get; set; }\n",
    "    public string MainActor { get; set; }\n",
    "    public int Acts { get; set; }  // Количество действий в спектакле\n",
    "\n",
    "    public PlayTicket(int ticketId, int rowNumber, int seatNumber, string eventDate, double price, string playTitle, string director, string mainActor, int acts) \n",
    "        : base(ticketId, rowNumber, seatNumber, eventDate, price)\n",
    "    {\n",
    "        PlayTitle = playTitle;\n",
    "        Director = director;\n",
    "        MainActor = mainActor;\n",
    "        Acts = acts;\n",
    "    }\n",
    "\n",
    "    public override void GetTicketDetails()\n",
    "    {\n",
    "        Console.WriteLine($\"ID билета: {TicketId}, Ряд: {RowNumber}, Место: {SeatNumber}, Дата мероприятия: {EventDate}, Цена: {Price}, Название спектакля: {PlayTitle}, Режиссер: {Director}, Главный актер: {MainActor}, Количество действий: {Acts}\");\n",
    "    }\n",
    "}\n",
    "\n",
    "public class ConferenceTicket : Ticket, IVIPBenefits\n",
    "{\n",
    "    public string ConferenceName { get; set; }\n",
    "    public string Speaker { get; set; }\n",
    "    public string Topic { get; set; }\n",
    "    public bool IncludesMeals { get; set; }\n",
    "\n",
    "    public ConferenceTicket(int ticketId, int rowNumber, int seatNumber, string eventDate, double price, string conferenceName, string speaker, string topic, bool includesMeals) \n",
    "        : base(ticketId, rowNumber, seatNumber, eventDate, price)\n",
    "    {\n",
    "        ConferenceName = conferenceName;\n",
    "        Speaker = speaker;\n",
    "        Topic = topic;\n",
    "        IncludesMeals = includesMeals;\n",
    "    }\n",
    "\n",
    "    public override void ReserveSeat()\n",
    "    {\n",
    "        Console.WriteLine($\"Место {RowNumber}-{SeatNumber} на конференции '{ConferenceName}' зарезервировано. Докладчик: {Speaker}, Тема: {Topic}, Включает питание: {IncludesMeals}\");\n",
    "    }\n",
    "\n",
    "    public void GetVIPAccess()\n",
    "    {\n",
    "        Console.WriteLine($\"VIP доступ на конференцию '{ConferenceName}' предоставлен!\");\n",
    "    }\n",
    "}\n",
    "\n",
    "// Создание и использование объектов\n",
    "ConcertTicket concertTicket = new ConcertTicket(1, 5, 12, \"10.10.2024\", 150.50, \"NoizeMC\", \"Stadium\", \"Hip-Hop\", 120);\n",
    "concertTicket.PrintTicketInfo();\n",
    "concertTicket.ReserveSeat();\n",
    "\n",
    "Console.WriteLine(\"\");"
   ]
  }
 ],
 "metadata": {
  "kernelspec": {
   "display_name": ".NET (C#)",
   "language": "C#",
   "name": ".net-csharp"
  },
  "polyglot_notebook": {
   "kernelInfo": {
    "defaultKernelName": "csharp",
    "items": [
     {
      "aliases": [],
      "languageName": "csharp",
      "name": "csharp"
     }
    ]
   }
  }
 },
 "nbformat": 4,
 "nbformat_minor": 2
}
