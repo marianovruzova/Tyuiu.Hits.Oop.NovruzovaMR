{
 "cells": [
  {
   "cell_type": "markdown",
   "metadata": {},
   "source": [
    "<h1 style=\"color:DodgerBlue\">Индивидальный проект</h1>"
   ]
  },
  {
   "cell_type": "markdown",
   "metadata": {},
   "source": [
    "<h2 style=\"color:DodgerBlue\">Название проекта:</h2>\n",
    "\n",
    "----\n",
    "\n",
    "### Вариант задания 21\n"
   ]
  },
  {
   "cell_type": "markdown",
   "metadata": {},
   "source": [
    "<h2 style=\"color:DodgerBlue\">Описание проекта:</h2>\n",
    "\n",
    "----\n",
    "\n",
    "Описание задачи: Создать базовый класс Ticket в C#, который будет представлять билеты на различные мероприятия. На основе этого класса разработать 2-3 производных класса, демонстрирующих принципы наследования и полиморфизма. В каждом из классов должны быть реализованы новые атрибуты и методы, а также переопределены некоторые методы базового класса для демонстрации полиморфизма. Требования к базовому классу Ticket: • Атрибуты: ID билета (TicketId), Номер ряда (RowNumber), Номер места (SeatNumber). • Методы: o PrintTicketInfo(): метод для печати информации о билете. o ReserveSeat(): метод для резервирования места. o GetTicketDetails(): метод для получения деталей билета. Требования к производным классам: 1. БилетНаКонцерт (ConcertTicket): Должен содержать дополнительные атрибуты, такие как Имя исполнителя (ArtistName). Метод PrintTicketInfo() должен быть переопределен для включения имени исполнителя в информацию о билете. 2. БилетНаСпектакль (PlayTicket): Должен содержать дополнительные атрибуты, такие как Название спектакля (PlayTitle). Метод GetTicketDetails() должен быть переопределен для отображения названия спектакля вместе с другими деталями билета. 3. БилетНаКонференцию (ConferenceTicket) (если требуется третий класс): Должен содержать дополнительные атрибуты, такие как Название конференции (ConferenceName). Метод ReserveSeat() должен быть переопределен для добавления информации о предпочтениях участника относительно мест. \n",
    "\n",
    "#### Дополнительное задание\n",
    "Добавьте к сущестующим классам (базовыму и производным 3-4 атрибута и метода) и реализуйте полиморфизм с перекрытием и прегегрузкой методов, а также generic классы"
   ]
  },
  {
   "cell_type": "markdown",
   "metadata": {},
   "source": [
    "<h2 style=\"color:DodgerBlue\">Реализация:</h2>\n",
    "\n",
    "----"
   ]
  },
  {
   "cell_type": "code",
   "execution_count": null,
   "metadata": {
    "dotnet_interactive": {
     "language": "csharp"
    },
    "polyglot_notebook": {
     "kernelName": "csharp"
    }
   },
   "outputs": [
    {
     "name": "stdout",
     "output_type": "stream",
     "text": [
      "ID билета: 1, Ряд: 5, Место: 12, Исполнитель: NoizeMC\n",
      "Место 5-12 зарезервировано.\n",
      "ID билета: 2, Ряд: 3, Место: 8, Название спектакля: Hamlet\n",
      "Место 1-1 на конференции 'Tech Conference 2024' зарезервировано.\n",
      "Исполнитель билета проверен: NoizeMC\n",
      "Проверка ряда спектакля: 3\n",
      "Конференция и ID билета проверены: Tech Conference 2024, 3\n",
      "ID билета: 1, Ряд: 5, Место: 12, Исполнитель: NoizeMC\n",
      "ID билета: 2, Ряд: 3, Место: 8\n",
      "ID билета: 3, Ряд: 1, Место: 1\n"
     ]
    }
   ],
   "source": [
    "using System;\n",
    "using System.Collections.Generic;\n",
    "\n",
    "public class Ticket\n",
    "{\n",
    "    public int TicketId { get; set; }\n",
    "    public int RowNumber { get; set; }\n",
    "    public int SeatNumber { get; set; }\n",
    "\n",
    "    public Ticket(int ticketId, int rowNumber, int seatNumber)\n",
    "    {\n",
    "        this.TicketId = ticketId;\n",
    "        this.RowNumber = rowNumber;\n",
    "        this.SeatNumber = seatNumber;\n",
    "    }\n",
    "\n",
    "    public virtual string PrintTicketInfo()\n",
    "    {\n",
    "        return $\"ID билета: {TicketId}, Ряд: {RowNumber}, Место: {SeatNumber}\";\n",
    "    }\n",
    "\n",
    "    public virtual string ReserveSeat()\n",
    "    {\n",
    "        return $\"Место {RowNumber}-{SeatNumber} зарезервировано.\";\n",
    "    }\n",
    "\n",
    "    public virtual string GetTicketDetails()\n",
    "    {\n",
    "        return $\"ID билета: {TicketId}, Ряд: {RowNumber}, Место: {SeatNumber}\";\n",
    "    }\n",
    "\n",
    "    public virtual void CheckDetails()\n",
    "    {\n",
    "        Console.WriteLine($\"Проверка билета: {PrintTicketInfo()}\");\n",
    "    }\n",
    "}\n",
    "\n",
    "public class ConcertTicket : Ticket\n",
    "{\n",
    "    public string ArtistName { get; set; }\n",
    "\n",
    "    public ConcertTicket(int ticketId, int rowNumber, int seatNumber, string artistName)\n",
    "        : base(ticketId, rowNumber, seatNumber)\n",
    "    {\n",
    "        this.ArtistName = artistName;\n",
    "    }\n",
    "\n",
    "    public override string PrintTicketInfo()\n",
    "    {\n",
    "        return $\"ID билета: {TicketId}, Ряд: {RowNumber}, Место: {SeatNumber}, Исполнитель: {ArtistName}\";\n",
    "    }\n",
    "\n",
    "    public void CheckDetails(string artistName)\n",
    "    {\n",
    "        Console.WriteLine($\"Исполнитель билета проверен: {artistName}\");\n",
    "    }\n",
    "}\n",
    "\n",
    "public class PlayTicket : Ticket\n",
    "{\n",
    "    public string PlayTitle { get; set; }\n",
    "\n",
    "    public PlayTicket(int ticketId, int rowNumber, int seatNumber, string playTitle)\n",
    "        : base(ticketId, rowNumber, seatNumber)\n",
    "    {\n",
    "        this.PlayTitle = playTitle;\n",
    "    }\n",
    "\n",
    "    public override string GetTicketDetails()\n",
    "    {\n",
    "        return $\"ID билета: {TicketId}, Ряд: {RowNumber}, Место: {SeatNumber}, Название спектакля: {PlayTitle}\";\n",
    "    }\n",
    "\n",
    "    public void CheckDetails(int rowNumber)\n",
    "    {\n",
    "        Console.WriteLine($\"Проверка ряда спектакля: {rowNumber}\");\n",
    "    }\n",
    "}\n",
    "\n",
    "public class ConferenceTicket : Ticket\n",
    "{\n",
    "    public string ConferenceName { get; set; }\n",
    "\n",
    "    public ConferenceTicket(int ticketId, int rowNumber, int seatNumber, string conferenceName)\n",
    "        : base(ticketId, rowNumber, seatNumber)\n",
    "    {\n",
    "        this.ConferenceName = conferenceName;\n",
    "    }\n",
    "\n",
    "    public override string ReserveSeat()\n",
    "    {\n",
    "        return $\"Место {RowNumber}-{SeatNumber} на конференции '{ConferenceName}' зарезервировано.\";\n",
    "    }\n",
    "\n",
    "    public void CheckDetails(string conferenceName, int ticketId)\n",
    "    {\n",
    "        Console.WriteLine($\"Конференция и ID билета проверены: {conferenceName}, {ticketId}\");\n",
    "    }\n",
    "}\n",
    "\n",
    "public class TicketInfoCollection<T> where T : Ticket\n",
    "{\n",
    "    private List<T> _tickets = new List<T>();\n",
    "\n",
    "    public void Add(T ticket)\n",
    "    {\n",
    "        _tickets.Add(ticket);\n",
    "    }\n",
    "\n",
    "    public void Remove(T ticket)\n",
    "    {\n",
    "        _tickets.Remove(ticket);\n",
    "    }\n",
    "\n",
    "    public void DisplayInfo()\n",
    "    {\n",
    "        foreach (var ticket in _tickets)\n",
    "        {\n",
    "            Console.WriteLine(ticket.PrintTicketInfo());\n",
    "        }\n",
    "    }\n",
    "}\n",
    "\n",
    "ConcertTicket concertTicket = new ConcertTicket(1, 5, 12, \"NoizeMC\");\n",
    "PlayTicket playTicket = new PlayTicket(2, 3, 8, \"Hamlet\");\n",
    "ConferenceTicket conferenceTicket = new ConferenceTicket(3, 1, 1, \"Tech Conference 2024\");\n",
    "\n",
    "Console.WriteLine(concertTicket.PrintTicketInfo());\n",
    "Console.WriteLine(concertTicket.ReserveSeat());\n",
    "\n",
    "Console.WriteLine(playTicket.GetTicketDetails());\n",
    "\n",
    "Console.WriteLine(conferenceTicket.ReserveSeat());\n",
    "\n",
    "concertTicket.CheckDetails(\"NoizeMC\");\n",
    "playTicket.CheckDetails(3);\n",
    "conferenceTicket.CheckDetails(\"Tech Conference 2024\", 3);\n",
    "\n",
    "TicketInfoCollection<Ticket> ticketCollection = new TicketInfoCollection<Ticket>();\n",
    "ticketCollection.Add(concertTicket);\n",
    "ticketCollection.Add(playTicket);\n",
    "ticketCollection.Add(conferenceTicket);\n",
    "ticketCollection.DisplayInfo();"
   ]
  }
 ],
 "metadata": {
  "kernelspec": {
   "display_name": ".NET (C#)",
   "language": "C#",
   "name": ".net-csharp"
  },
  "polyglot_notebook": {
   "kernelInfo": {
    "defaultKernelName": "csharp",
    "items": [
     {
      "aliases": [],
      "languageName": "csharp",
      "name": "csharp"
     }
    ]
   }
  }
 },
 "nbformat": 4,
 "nbformat_minor": 2
}
