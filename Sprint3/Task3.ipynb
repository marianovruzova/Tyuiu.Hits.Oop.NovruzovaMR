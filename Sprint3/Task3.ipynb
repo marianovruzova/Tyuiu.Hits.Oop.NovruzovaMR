{
 "cells": [
  {
   "cell_type": "markdown",
   "metadata": {},
   "source": [
    "<h1 style=\"color:DodgerBlue\">Индивидальный проект</h1>"
   ]
  },
  {
   "cell_type": "markdown",
   "metadata": {},
   "source": [
    "<h2 style=\"color:DodgerBlue\">Название проекта:</h2>\n",
    "\n",
    "----\n",
    "\n",
    "### Вариант задания \n"
   ]
  },
  {
   "cell_type": "markdown",
   "metadata": {},
   "source": [
    "<h2 style=\"color:DodgerBlue\">Описание проекта:</h2>\n",
    "\n",
    "----\n",
    "\n",
    "[ваш текст]\n",
    "\n",
    "#### Дополнительное задание\n",
    "Добавьте к сущестующим классам (базовыму и производным 3-4 атрибута и метода) и реализуйте полиморфизм с перекрытием и прегегрузкой методов, а также generic классы"
   ]
  },
  {
   "cell_type": "markdown",
   "metadata": {},
   "source": [
    "<h2 style=\"color:DodgerBlue\">Реализация:</h2>\n",
    "\n",
    "----"
   ]
  },
  {
   "cell_type": "code",
   "execution_count": null,
   "metadata": {
    "dotnet_interactive": {
     "language": "csharp"
    },
    "polyglot_notebook": {
     "kernelName": "csharp"
    }
   },
   "outputs": [
    {
     "name": "stdout",
     "output_type": "stream",
     "text": [
      "ID отзыва: 1, Рейтинг: 5, Текст: Отличное обслуживание!, Дата посещения: 01.10.2024, Имя рецензента: Иван Иванов, Дата отзыва: 06.11.2024\n",
      "Продукт был оценен с рейтингом: 5\n",
      "ID продукта: P12345, Рейтинг: 5\n",
      "ID отзыва: 3, Текст: Потрясающий опыт!, Рейтинг: 5, Дата посещения: 01.10.2024, Время начала: 09:00, Имя рецензента: Алексей Смирнов, Дата отзыва: 06.11.2024, Поставщик услуги: Мой Сервис\n",
      "\n",
      "Все отзывы:\n",
      "ID отзыва: 1, Рейтинг: 5, Текст: Отличное обслуживание!, Дата посещения: 01.10.2024, Имя рецензента: Иван Иванов, Дата отзыва: 06.11.2024\n",
      "ID отзыва: 2, Рейтинг: 5, Текст: Превосходный продукт!, Имя рецензента: Мария Петрова, Дата отзыва: 06.11.2024\n",
      "ID отзыва: 3, Рейтинг: 5, Текст: Потрясающий опыт!, Имя рецензента: Алексей Смирнов, Дата отзыва: 06.11.2024\n",
      "\n",
      "Детали всех отзывов:\n",
      "ID отзыва: 1, Текст: Отличное обслуживание!, Рейтинг: 5, Имя рецензента: Иван Иванов, Дата отзыва: 06.11.2024\n",
      "ID отзыва: 2, Текст: Превосходный продукт!, Рейтинг: 5, Имя рецензента: Мария Петрова, Дата отзыва: 06.11.2024\n",
      "ID отзыва: 3, Текст: Потрясающий опыт!, Рейтинг: 5, Дата посещения: 01.10.2024, Время начала: 09:00, Имя рецензента: Алексей Смирнов, Дата отзыва: 06.11.2024, Поставщик услуги: Мой Сервис\n"
     ]
    }
   ],
   "source": [
    "using System;\n",
    "using System.Collections.Generic;\n",
    "\n",
    "public abstract class Review\n",
    "{\n",
    "    public int ReviewId { get; set; }\n",
    "    public string Text { get; set; }\n",
    "    public int Rating { get; set; }\n",
    "    public string ReviewerName { get; set; }\n",
    "    public DateTime ReviewDate { get; set; }\n",
    "\n",
    "    public Review(int reviewId, string text, int rating, string reviewerName, DateTime reviewDate)\n",
    "    {\n",
    "        ReviewId = reviewId;\n",
    "        Text = text;\n",
    "        Rating = rating;\n",
    "        ReviewerName = reviewerName;\n",
    "        ReviewDate = reviewDate;\n",
    "    }\n",
    "\n",
    "    public virtual void DisplayReview()\n",
    "    {\n",
    "        Console.WriteLine($\"ID отзыва: {ReviewId}, Рейтинг: {Rating}, Текст: {Text}, Имя рецензента: {ReviewerName}, Дата отзыва: {ReviewDate.ToShortDateString()}\");\n",
    "    }\n",
    "\n",
    "    public virtual void RateProduct(int rating)\n",
    "    {\n",
    "        Rating = rating;\n",
    "        Console.WriteLine($\"Продукт был оценен с рейтингом: {Rating}\");\n",
    "    }\n",
    "\n",
    "    public virtual void GetReviewDetails()\n",
    "    {\n",
    "        Console.WriteLine($\"ID отзыва: {ReviewId}, Текст: {Text}, Рейтинг: {Rating}, Имя рецензента: {ReviewerName}, Дата отзыва: {ReviewDate.ToShortDateString()}\");\n",
    "    }\n",
    "}\n",
    "public class ServiceReview : Review\n",
    "{\n",
    "    public DateTime VisitDate { get; set; }\n",
    "\n",
    "    public ServiceReview(int reviewId, string text, int rating, string reviewerName, DateTime reviewDate, DateTime visitDate)\n",
    "        : base(reviewId, text, rating, reviewerName, reviewDate)\n",
    "    {\n",
    "        VisitDate = visitDate;\n",
    "    }\n",
    "\n",
    "    public override void DisplayReview()\n",
    "    {\n",
    "        Console.WriteLine($\"ID отзыва: {ReviewId}, Рейтинг: {Rating}, Текст: {Text}, Дата посещения: {VisitDate.ToShortDateString()}, Имя рецензента: {ReviewerName}, Дата отзыва: {ReviewDate.ToShortDateString()}\");\n",
    "    }\n",
    "}\n",
    "public class ProductReview : Review\n",
    "{\n",
    "    public string ProductId { get; set; }\n",
    "\n",
    "    public ProductReview(int reviewId, string text, int rating, string reviewerName, DateTime reviewDate, string productId)\n",
    "        : base(reviewId, text, rating, reviewerName, reviewDate)\n",
    "    {\n",
    "        ProductId = productId;\n",
    "    }\n",
    "\n",
    "    public override void RateProduct(int rating)\n",
    "    {\n",
    "        base.RateProduct(rating);\n",
    "        Console.WriteLine($\"ID продукта: {ProductId}, Рейтинг: {Rating}\");\n",
    "    }\n",
    "}\n",
    "public class DetailedServiceReview : Review\n",
    "{\n",
    "    public DateTime VisitDate { get; set; }\n",
    "    public DateTime StartTime { get; set; }\n",
    "    public string ServiceProvider { get; set; }\n",
    "\n",
    "    public DetailedServiceReview(int reviewId, string text, int rating, string reviewerName, DateTime reviewDate, DateTime visitDate, DateTime startTime, string serviceProvider)\n",
    "        : base(reviewId, text, rating, reviewerName, reviewDate)\n",
    "    {\n",
    "        VisitDate = visitDate;\n",
    "        StartTime = startTime;\n",
    "        ServiceProvider = serviceProvider;\n",
    "    }\n",
    "\n",
    "    public override void GetReviewDetails()\n",
    "    {\n",
    "        Console.WriteLine($\"ID отзыва: {ReviewId}, Текст: {Text}, Рейтинг: {Rating}, Дата посещения: {VisitDate.ToShortDateString()}, Время начала: {StartTime.ToShortTimeString()}, Имя рецензента: {ReviewerName}, Дата отзыва: {ReviewDate.ToShortDateString()}, Поставщик услуги: {ServiceProvider}\");\n",
    "    }\n",
    "}\n",
    "public class ReviewCollection<T> where T : Review\n",
    "{\n",
    "    private List<T> _reviews = new List<T>();\n",
    "\n",
    "    public void Add(T review)\n",
    "    {\n",
    "        _reviews.Add(review);\n",
    "    }\n",
    "\n",
    "    public void Remove(T review)\n",
    "    {\n",
    "        _reviews.Remove(review);\n",
    "    }\n",
    "\n",
    "    public void DisplayReviews()\n",
    "    {\n",
    "        foreach (var review in _reviews)\n",
    "        {\n",
    "            review.DisplayReview();\n",
    "        }\n",
    "    }\n",
    "\n",
    "    public void DisplayReviewDetails()\n",
    "    {\n",
    "        foreach (var review in _reviews)\n",
    "        {\n",
    "            review.GetReviewDetails();\n",
    "        }     \n",
    "    }\n",
    "}\n",
    "var visitDate = new DateTime(DateTime.Now.Year, 10, 1);\n",
    "var startTime = new DateTime(DateTime.Now.Year, 10, 1, 9, 0, 0);\n",
    "\n",
    "var serviceReview = new ServiceReview(1, \"Отличное обслуживание!\", 5, \"Иван Иванов\", DateTime.Now, visitDate);\n",
    "serviceReview.DisplayReview();\n",
    "        \n",
    "var productReview = new ProductReview(2, \"Превосходный продукт!\", 4, \"Мария Петрова\", DateTime.Now, \"P12345\");\n",
    "productReview.RateProduct(5);\n",
    "\n",
    "var detailedServiceReview = new DetailedServiceReview(3, \"Потрясающий опыт!\", 5, \"Алексей Смирнов\", DateTime.Now, visitDate, startTime, \"Мой Сервис\");\n",
    "detailedServiceReview.GetReviewDetails();\n",
    "\n",
    "var reviewCollection = new ReviewCollection<Review>();\n",
    "reviewCollection.Add(serviceReview);\n",
    "reviewCollection.Add(productReview);\n",
    "reviewCollection.Add(detailedServiceReview);\n",
    "\n",
    "Console.WriteLine(\"\\nВсе отзывы:\");\n",
    "reviewCollection.DisplayReviews();\n",
    "\n",
    "Console.WriteLine(\"\\nДетали всех отзывов:\");\n",
    "reviewCollection.DisplayReviewDetails();\n",
    "\n"
   ]
  }
 ],
 "metadata": {
  "kernelspec": {
   "display_name": ".NET (C#)",
   "language": "C#",
   "name": ".net-csharp"
  },
  "polyglot_notebook": {
   "kernelInfo": {
    "defaultKernelName": "csharp",
    "items": [
     {
      "aliases": [],
      "languageName": "csharp",
      "name": "csharp"
     }
    ]
   }
  }
 },
 "nbformat": 4,
 "nbformat_minor": 2
}
