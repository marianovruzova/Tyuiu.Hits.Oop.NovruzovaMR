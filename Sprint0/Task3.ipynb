{
 "cells": [
  {
   "cell_type": "markdown",
   "metadata": {},
   "source": [
    "<h1 style=\"color:DodgerBlue\">Индивидальный проект</h1>"
   ]
  },
  {
   "cell_type": "markdown",
   "metadata": {},
   "source": [
    "<h2 style=\"color:DodgerBlue\">Название проекта:</h2>\n",
    "\n",
    "----\n",
    "\n",
    "### Вариант задания 18\n"
   ]
  },
  {
   "cell_type": "markdown",
   "metadata": {},
   "source": [
    "<h2 style=\"color:DodgerBlue\">Описание проекта:</h2>\n",
    "\n",
    "----\n",
    "\n",
    "Описание задачи: Создать базовый класс Review в C#, который будет представлять отзывы о продуктах или услугах. На основе этого класса разработать 2-3 производных класса, демонстрирующих принципы наследования и полиморфизма. В каждом из классов должны быть реализованы новые атрибуты и методы, а также переопределены некоторые методы базового класса для демонстрации полиморфизма. Требования к базовому классу Review: • Атрибуты: ID отзыва (ReviewId), Текст отзыва (Text), Рейтинг (Rating). • Методы: o DisplayReview(): метод для отображения отзыва. o RateProduct(): метод для присвоения рейтинга продукту. o GetReviewDetails(): метод для получения деталей отзыва. Требования к производным классам: 1. ОтзывОбслуживания (ServiceReview): Должен содержать дополнительные атрибуты, такие как Дата посещения (VisitDate). Метод DisplayReview() должен быть переопределен для включения даты посещения в отображение отзыва. 2. ОтзывТовара (ProductReview): Должен содержать дополнительные атрибуты, такие как Идентификатор продукта (ProductId). Метод RateProduct() должен быть переопределен для связывания рейтинга с конкретным продуктом. 3. ОтзывУслуги (ServiceReview) (если требуется третий класс): Должен содержать дополнительные атрибуты, такие как Время начала услуги (StartTime). Метод GetReviewDetails() должен быть переопределен для отображения времени начала услуги вместе с другими деталями отзыва. \n"
   ]
  },
  {
   "cell_type": "markdown",
   "metadata": {},
   "source": [
    "<h2 style=\"color:DodgerBlue\">Реализация:</h2>\n",
    "\n",
    "----"
   ]
  },
  {
   "cell_type": "code",
   "execution_count": null,
   "metadata": {},
   "outputs": [
    {
     "name": "stdout",
     "output_type": "stream",
     "text": [
      "ID отзыва: 1, Рейтинг: 5, Текст: Отличное обслуживание!, Дата посещения: 01.10.2024\n",
      "Продукт был оценен с рейтингом: 5\n",
      "ID продукта: P12345, Рейтинг: 5\n",
      "ID отзыва: 3, Текст: Потрясающий опыт!, Рейтинг: 5, Дата посещения: 01.10.2024, Время начала: 09:00\n"
     ]
    }
   ],
   "source": [
    "public class Review\n",
    "{\n",
    "    public int ReviewId { get; set; }\n",
    "    public string Text { get; set; }\n",
    "    public int Rating { get; set; }\n",
    "\n",
    "    public Review(int reviewId, string text, int rating)\n",
    "    {\n",
    "        ReviewId = reviewId;\n",
    "        Text = text;\n",
    "        Rating = rating;\n",
    "    }\n",
    "\n",
    "    public virtual void DisplayReview()\n",
    "    {\n",
    "        Console.WriteLine($\"ID отзыва: {ReviewId}, Рейтинг: {Rating}, Текст: {Text}\");\n",
    "    }\n",
    "\n",
    "    public virtual void RateProduct(int rating)\n",
    "    {\n",
    "        Rating = rating;\n",
    "        Console.WriteLine($\"Продукт был оценен с рейтингом: {Rating}\");\n",
    "    }\n",
    "\n",
    "    public virtual void GetReviewDetails()\n",
    "    {\n",
    "        Console.WriteLine($\"ID отзыва: {ReviewId}, Текст: {Text}, Рейтинг: {Rating}\");\n",
    "    }\n",
    "}\n",
    "public class ServiceReview : Review\n",
    "{\n",
    "    public DateTime VisitDate { get; set; }\n",
    "\n",
    "    public ServiceReview(int reviewId, string text, int rating, DateTime visitDate)\n",
    "        : base(reviewId, text, rating)\n",
    "    {\n",
    "        VisitDate = visitDate;\n",
    "    }\n",
    "\n",
    "    public override void DisplayReview()\n",
    "    {\n",
    "        Console.WriteLine($\"ID отзыва: {ReviewId}, Рейтинг: {Rating}, Текст: {Text}, Дата посещения: {VisitDate.ToShortDateString()}\");\n",
    "    }\n",
    "}\n",
    "\n",
    "public class ProductReview : Review\n",
    "{\n",
    "    public string ProductId { get; set; }\n",
    "\n",
    "    public ProductReview(int reviewId, string text, int rating, string productId)\n",
    "        : base(reviewId, text, rating)\n",
    "    {\n",
    "        ProductId = productId;\n",
    "    }\n",
    "\n",
    "    public override void RateProduct(int rating)\n",
    "    {\n",
    "        base.RateProduct(rating);\n",
    "        Console.WriteLine($\"ID продукта: {ProductId}, Рейтинг: {Rating}\");\n",
    "    }\n",
    "}\n",
    "public class DetailedServiceReview : Review\n",
    "{\n",
    "    public DateTime VisitDate { get; set; }\n",
    "    public DateTime StartTime { get; set; }\n",
    "\n",
    "    public DetailedServiceReview(int reviewId, string text, int rating, DateTime visitDate, DateTime startTime)\n",
    "        : base(reviewId, text, rating)\n",
    "    {\n",
    "        VisitDate = visitDate;\n",
    "        StartTime = startTime;\n",
    "    }\n",
    "\n",
    "    public override void GetReviewDetails()\n",
    "    {\n",
    "        Console.WriteLine($\"ID отзыва: {ReviewId}, Текст: {Text}, Рейтинг: {Rating}, Дата посещения: {VisitDate.ToShortDateString()}, Время начала: {StartTime.ToShortTimeString()}\");\n",
    "    }\n",
    "}\n",
    "\n",
    "var visitDate = new DateTime(DateTime.Now.Year, 10, 1);\n",
    "var startTime = new DateTime(DateTime.Now.Year, 10, 1, 9, 0, 0);\n",
    "\n",
    "var serviceReview = new ServiceReview(1, \"Отличное обслуживание!\", 5, visitDate);\n",
    "serviceReview.DisplayReview();\n",
    "        \n",
    "var productReview = new ProductReview(2, \"Превосходный продукт!\", 4, \"P12345\");\n",
    "productReview.RateProduct(5);\n",
    "        \n",
    "var detailedServiceReview = new DetailedServiceReview(3, \"Потрясающий опыт!\", 5, visitDate, startTime);\n",
    "detailedServiceReview.GetReviewDetails();\n"
   ]
  }
 ],
 "metadata": {
  "kernelspec": {
   "display_name": ".NET (C#)",
   "language": "C#",
   "name": ".net-csharp"
  },
  "polyglot_notebook": {
   "kernelInfo": {
    "defaultKernelName": "csharp",
    "items": [
     {
      "aliases": [],
      "languageName": "csharp",
      "name": "csharp"
     }
    ]
   }
  }
 },
 "nbformat": 4,
 "nbformat_minor": 2
}
