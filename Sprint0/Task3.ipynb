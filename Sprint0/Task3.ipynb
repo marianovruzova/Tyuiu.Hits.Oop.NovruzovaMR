{
 "cells": [
  {
   "cell_type": "markdown",
   "metadata": {},
   "source": [
    "<h1 style=\"color:DodgerBlue\">Индивидальный проект</h1>"
   ]
  },
  {
   "cell_type": "markdown",
   "metadata": {},
   "source": [
    "<h2 style=\"color:DodgerBlue\">Название проекта:</h2>\n",
    "\n",
    "----\n",
    "\n",
    "### Вариант задания 18\n"
   ]
  },
  {
   "cell_type": "markdown",
   "metadata": {},
   "source": [
    "<h2 style=\"color:DodgerBlue\">Описание проекта:</h2>\n",
    "\n",
    "----\n",
    "\n",
    "Описание задачи: Создать базовый класс Review в C#, который будет представлять отзывы о продуктах или услугах. На основе этого класса разработать 2-3 производных класса, демонстрирующих принципы наследования и полиморфизма. В каждом из классов должны быть реализованы новые атрибуты и методы, а также переопределены некоторые методы базового класса для демонстрации полиморфизма. Требования к базовому классу Review: • Атрибуты: ID отзыва (ReviewId), Текст отзыва (Text), Рейтинг (Rating). • Методы: o DisplayReview(): метод для отображения отзыва. o RateProduct(): метод для присвоения рейтинга продукту. o GetReviewDetails(): метод для получения деталей отзыва. Требования к производным классам: 1. ОтзывОбслуживания (ServiceReview): Должен содержать дополнительные атрибуты, такие как Дата посещения (VisitDate). Метод DisplayReview() должен быть переопределен для включения даты посещения в отображение отзыва. 2. ОтзывТовара (ProductReview): Должен содержать дополнительные атрибуты, такие как Идентификатор продукта (ProductId). Метод RateProduct() должен быть переопределен для связывания рейтинга с конкретным продуктом. 3. ОтзывУслуги (ServiceReview) (если требуется третий класс): Должен содержать дополнительные атрибуты, такие как Время начала услуги (StartTime). Метод GetReviewDetails() должен быть переопределен для отображения времени начала услуги вместе с другими деталями отзыва. \n"
   ]
  },
  {
   "cell_type": "markdown",
   "metadata": {},
   "source": [
    "<h2 style=\"color:DodgerBlue\">Реализация:</h2>\n",
    "\n",
    "----"
   ]
  },
  {
   "cell_type": "code",
   "execution_count": 2,
   "metadata": {
    "dotnet_interactive": {
     "language": "csharp"
    },
    "polyglot_notebook": {
     "kernelName": "csharp"
    }
   },
   "outputs": [],
   "source": []
  },
  {
   "cell_type": "code",
   "execution_count": null,
   "metadata": {},
   "outputs": [
    {
     "name": "stdout",
     "output_type": "stream",
     "text": [
      "ID отзыва: 1, Рейтинг: 5, Текст: Отличное обслуживание!, Дата посещения: 01.10.2024\n",
      "Продукт был оценен с рейтингом: 5\n",
      "ID продукта: P12345, Рейтинг: 5\n",
      "ID отзыва: 3, Текст: Потрясающий опыт!, Рейтинг: 5, Дата посещения: 01.10.2024, Время начала: 09:00\n"
     ]
    }
   ],
   "source": [
    "public class Review\n",
    "{\n",
    "    public int ReviewId;\n",
    "    public string Text;\n",
    "    public int Rating;\n",
    "\n",
    "    public virtual string GetInfo()\n",
    "    {\n",
    "        return $\"ID отзыва: {ReviewId}, Рейтинг: {Rating}, Текст: {Text}\";\n",
    "    }\n",
    "\n",
    "    public virtual void RateProduct(int rating)\n",
    "    {\n",
    "        Rating = rating;\n",
    "        Console.WriteLine($\"Продукт был оценен с рейтингом: {Rating}\");\n",
    "    }\n",
    "\n",
    "    public virtual void GetReviewDetails()\n",
    "    {\n",
    "        Console.WriteLine($\"ID отзыва: {ReviewId}, Текст: {Text}, Рейтинг: {Rating}\");\n",
    "    }\n",
    "}\n",
    "public class ServiceReview : Review\n",
    "{\n",
    "    public DateTime VisitDate;\n",
    "\n",
    "    public override string GetInfo()\n",
    "    {\n",
    "        return $\"ID отзыва: {ReviewId}, Рейтинг: {Rating}, Текст: {Text}, Дата посещения: {VisitDate.ToShortDateString()}\";\n",
    "    }\n",
    "}\n",
    "public class ProductReview : Review\n",
    "{\n",
    "    public string ProductId;\n",
    "\n",
    "    public override void RateProduct(int rating)\n",
    "    {\n",
    "        base.RateProduct(rating);\n",
    "        Console.WriteLine($\"ID продукта: {ProductId}, Рейтинг: {Rating}\");\n",
    "    }\n",
    "}\n",
    "public class DetailedServiceReview : Review\n",
    "{\n",
    "    public DateTime VisitDate;\n",
    "    public DateTime StartTime;\n",
    "\n",
    "    public override void GetReviewDetails()\n",
    "    {\n",
    "        Console.WriteLine($\"ID отзыва: {ReviewId}, Текст: {Text}, Рейтинг: {Rating}, Дата посещения: {VisitDate.ToShortDateString()}, Время начала: {StartTime.ToShortTimeString()}\");\n",
    "    }\n",
    "}\n",
    "var visitDate = new DateTime(DateTime.Now.Year, 10, 1);\n",
    "var startTime = new DateTime(DateTime.Now.Year, 10, 1, 9, 0, 0);\n",
    "\n",
    "var serviceReview = new ServiceReview();\n",
    "serviceReview.ReviewId = 1;\n",
    "serviceReview.Text = \"Отличное обслуживание!\";\n",
    "serviceReview.Rating = 5;\n",
    "serviceReview.VisitDate = visitDate;\n",
    "Console.WriteLine(serviceReview.GetInfo());\n",
    "\n",
    "var productReview = new ProductReview();\n",
    "productReview.ReviewId = 2;\n",
    "productReview.Text = \"Превосходный продукт!\";\n",
    "productReview.Rating = 4;\n",
    "productReview.ProductId = \"P12345\";\n",
    "productReview.RateProduct(5);\n",
    "\n",
    "var detailedServiceReview = new DetailedServiceReview();\n",
    "detailedServiceReview.ReviewId = 3;\n",
    "detailedServiceReview.Text = \"Потрясающий опыт!\";\n",
    "detailedServiceReview.Rating = 5;\n",
    "detailedServiceReview.VisitDate = visitDate;\n",
    "detailedServiceReview.StartTime = startTime;\n",
    "detailedServiceReview.GetReviewDetails();\n"
   ]
  }
 ],
 "metadata": {
  "kernelspec": {
   "display_name": ".NET (C#)",
   "language": "C#",
   "name": ".net-csharp"
  },
  "polyglot_notebook": {
   "kernelInfo": {
    "defaultKernelName": "csharp",
    "items": [
     {
      "aliases": [],
      "languageName": "csharp",
      "name": "csharp"
     }
    ]
   }
  }
 },
 "nbformat": 4,
 "nbformat_minor": 2
}
