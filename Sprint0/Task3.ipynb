{
 "cells": [
  {
   "cell_type": "markdown",
   "metadata": {},
   "source": [
    "<h1 style=\"color:DodgerBlue\">Индивидальный проект</h1>"
   ]
  },
  {
   "cell_type": "markdown",
   "metadata": {},
   "source": [
    "<h2 style=\"color:DodgerBlue\">Название проекта:</h2>\n",
    "\n",
    "----\n",
    "\n",
    "### Вариант задания 21\n"
   ]
  },
  {
   "cell_type": "markdown",
   "metadata": {},
   "source": [
    "<h2 style=\"color:DodgerBlue\">Описание проекта:</h2>\n",
    "\n",
    "----\n",
    "\n",
    "Требования к базовому классу Ticket: • Атрибуты: ID билета (TicketId), Номер ряда (RowNumber), Номер места (SeatNumber). • Методы: o PrintTicketInfo(): метод для печати информации о билете. o ReserveSeat(): метод для резервирования места. o GetTicketDetails(): метод для получения деталей билета. Требования к производным классам: 1. БилетНаКонцерт (ConcertTicket): Должен содержать дополнительные атрибуты, такие как Имя исполнителя (ArtistName). Метод PrintTicketInfo() должен быть переопределен для включения имени исполнителя в информацию о билете. 2. БилетНаСпектакль (PlayTicket): Должен содержать дополнительные атрибуты, такие как Название спектакля (PlayTitle). Метод GetTicketDetails() должен быть переопределен для отображения названия спектакля вместе с другими деталями билета. 3. БилетНаКонференцию (ConferenceTicket) (если требуется третий класс): Должен содержать дополнительные атрибуты, такие как Название конференции (ConferenceName). Метод ReserveSeat() должен быть переопределен для добавления информации о предпочтениях участника относительно мест. \n",
    "\n"
   ]
  },
  {
   "cell_type": "markdown",
   "metadata": {},
   "source": [
    "<h2 style=\"color:DodgerBlue\">Реализация:</h2>\n",
    "\n",
    "----"
   ]
  },
  {
   "cell_type": "code",
   "execution_count": 2,
   "metadata": {
    "dotnet_interactive": {
     "language": "csharp"
    },
    "polyglot_notebook": {
     "kernelName": "csharp"
    }
   },
   "outputs": [],
   "source": []
  },
  {
   "cell_type": "code",
   "execution_count": null,
   "metadata": {
    "dotnet_interactive": {
     "language": "csharp"
    },
    "polyglot_notebook": {
     "kernelName": "csharp"
    }
   },
   "outputs": [],
   "source": [
    "using System;\n",
    "\n",
    "public class Ticket\n",
    "{\n",
    "    public int TicketId;\n",
    "    public int RowNumber;\n",
    "    public int SeatNumber;\n",
    "\n",
    "    public virtual void PrintTicketInfo()\n",
    "    {\n",
    "        Console.WriteLine($\"ID билета: {TicketId}, Ряд: {RowNumber}, Место: {SeatNumber}\");\n",
    "    }\n",
    "\n",
    "    public virtual void ReserveSeat()\n",
    "    {\n",
    "        Console.WriteLine($\"Место {RowNumber}-{SeatNumber} зарезервировано.\");\n",
    "    }\n",
    "\n",
    "    public virtual void GetTicketDetails()\n",
    "    {\n",
    "        Console.WriteLine($\"ID билета: {TicketId}, Ряд: {RowNumber}, Место: {SeatNumber}\");\n",
    "    }\n",
    "}\n",
    "\n",
    "public class ConcertTicket : Ticket\n",
    "{\n",
    "    public string ArtistName;\n",
    "\n",
    "    public override void PrintTicketInfo()\n",
    "    {\n",
    "        Console.WriteLine($\"ID билета: {TicketId}, Ряд: {RowNumber}, Место: {SeatNumber}, Исполнитель: {ArtistName}\");\n",
    "    }\n",
    "}\n",
    "\n",
    "public class PlayTicket : Ticket\n",
    "{\n",
    "    public string PlayTitle;\n",
    "\n",
    "    public override void GetTicketDetails()\n",
    "    {\n",
    "        Console.WriteLine($\"ID билета: {TicketId}, Ряд: {RowNumber}, Место: {SeatNumber}, Название спектакля: {PlayTitle}\");\n",
    "    }\n",
    "}\n",
    "\n",
    "public class ConferenceTicket : Ticket\n",
    "{\n",
    "    public string ConferenceName;\n",
    "\n",
    "    public override void ReserveSeat()\n",
    "    {\n",
    "        Console.WriteLine($\"Место {RowNumber}-{SeatNumber} на конференции '{ConferenceName}' зарезервировано.\");\n",
    "    }\n",
    "}\n",
    "\n",
    "// Создание и использование объектов\n",
    "var concertTicket = new ConcertTicket\n",
    "{\n",
    "    TicketId = 1,\n",
    "    RowNumber = 5,\n",
    "    SeatNumber = 12,\n",
    "    ArtistName = \"The Rolling Stones\"\n",
    "};\n",
    "concertTicket.PrintTicketInfo();\n",
    "\n",
    "var playTicket = new PlayTicket\n",
    "{\n",
    "    TicketId = 2,\n",
    "    RowNumber = 3,\n",
    "    SeatNumber = 8,\n",
    "    PlayTitle = \"Hamlet\"\n",
    "};\n",
    "playTicket.GetTicketDetails();\n",
    "\n",
    "var conferenceTicket = new ConferenceTicket\n",
    "{\n",
    "    TicketId = 3,\n",
    "    RowNumber = 1,\n",
    "    SeatNumber = 1,\n",
    "    ConferenceName = \"Tech Conference 2024\"\n",
    "};\n",
    "conferenceTicket.ReserveSeat();\n"
   ]
  }
 ],
 "metadata": {
  "kernelspec": {
   "display_name": ".NET (C#)",
   "language": "C#",
   "name": ".net-csharp"
  },
  "polyglot_notebook": {
   "kernelInfo": {
    "defaultKernelName": "csharp",
    "items": [
     {
      "aliases": [],
      "languageName": "csharp",
      "name": "csharp"
     }
    ]
   }
  }
 },
 "nbformat": 4,
 "nbformat_minor": 2
}
